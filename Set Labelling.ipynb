{
 "cells": [
  {
   "cell_type": "code",
   "execution_count": 188,
   "metadata": {},
   "outputs": [],
   "source": [
    "import tensorflow as tf\n",
    "import os\n",
    "import matplotlib.pyplot as plt\n",
    "import numpy as np\n",
    "import pandas as pd\n",
    "import random\n",
    "import anvil.media"
   ]
  },
  {
   "cell_type": "code",
   "execution_count": 175,
   "metadata": {},
   "outputs": [
    {
     "name": "stdout",
     "output_type": "stream",
     "text": [
      "Connecting to wss://anvil.works/uplink\n",
      "Anvil websocket open\n",
      "Connected to \"Default environment (dev)\" as SERVER\n"
     ]
    }
   ],
   "source": [
    "import anvil.server\n",
    "\n",
    "# https://anvil.works/build#app:DITALTQUCEBIFSZL\n",
    "anvil.server.connect(\"CWGFBQJJPL5HKTHBTADCUZRE-DITALTQUCEBIFSZL\")\n"
   ]
  },
  {
   "cell_type": "code",
   "execution_count": 53,
   "metadata": {},
   "outputs": [],
   "source": [
    "# list_ds = tf.data.Dataset.list_files(\"cards/*.jpg\", shuffle=False)\n",
    "# files = [f.numpy().decode() for f in list_ds]\n",
    "# for f in files:\n",
    "#     labels = labels.append({\"file\": f}, ignore_index=True)\n",
    "    "
   ]
  },
  {
   "cell_type": "code",
   "execution_count": 210,
   "metadata": {},
   "outputs": [
    {
     "data": {
      "text/plain": [
       "0"
      ]
     },
     "execution_count": 210,
     "metadata": {},
     "output_type": "execute_result"
    }
   ],
   "source": [
    "labels = pd.read_csv(\"cards/labels.csv\")\n",
    "def save():\n",
    "    labels.to_csv(\"cards/labels.csv\",index=False)\n",
    "    \n",
    "to_label = {\n",
    "    \"number\": [r for i,r in labels.iterrows() if np.isnan(r['number'])],\n",
    "    \"fill\": [r for i,r in labels.iterrows() if pd.isnull(r['fill'])],\n",
    "    \"colour\": [r for i,r in labels.iterrows() if pd.isnull(r['colour'])],\n",
    "    \"shape\": [r for i,r in labels.iterrows() if pd.isnull(r['shape'])],\n",
    "}\n",
    "\n",
    "@anvil.server.callable\n",
    "def remaining():\n",
    "    return len(to_label['number']) + len(to_label['fill']) + len(to_label['colour']) + len(to_label['shape'])\n",
    "\n",
    "remaining()"
   ]
  },
  {
   "cell_type": "code",
   "execution_count": 197,
   "metadata": {},
   "outputs": [],
   "source": [
    "@anvil.server.callable\n",
    "def get_unlabelled_card(type):\n",
    "    if to_label[type]:\n",
    "        c = random.choice(to_label[type])\n",
    "        to_label[type] = [x for x in to_label[type] if x is not c]\n",
    "\n",
    "        return (c['file'], anvil.media.from_file(c['file'], \"image/jpeg\"), remaining())\n",
    "    else:\n",
    "        return None, None, 0\n",
    "\n",
    "@anvil.server.callable\n",
    "def label_card(file, type, label):\n",
    "    for i,r in labels.iterrows():\n",
    "        if r['file'] == file:\n",
    "            labels.loc[i,type] = label\n",
    "            save()\n",
    "            break\n",
    "            "
   ]
  },
  {
   "cell_type": "code",
   "execution_count": 212,
   "metadata": {},
   "outputs": [
    {
     "data": {
      "text/plain": [
       "(None, None, 0)"
      ]
     },
     "execution_count": 212,
     "metadata": {},
     "output_type": "execute_result"
    }
   ],
   "source": [
    "\n",
    "get_unlabelled_card(\"shape\")\n",
    "#label_card(\"cards\\\\card.763.jpg\", \"colour\", np.NaN)"
   ]
  },
  {
   "cell_type": "code",
   "execution_count": null,
   "metadata": {},
   "outputs": [],
   "source": []
  }
 ],
 "metadata": {
  "kernelspec": {
   "display_name": "Python 3",
   "language": "python",
   "name": "python3"
  },
  "language_info": {
   "codemirror_mode": {
    "name": "ipython",
    "version": 3
   },
   "file_extension": ".py",
   "mimetype": "text/x-python",
   "name": "python",
   "nbconvert_exporter": "python",
   "pygments_lexer": "ipython3",
   "version": "3.8.7"
  }
 },
 "nbformat": 4,
 "nbformat_minor": 4
}
