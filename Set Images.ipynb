{
 "cells": [
  {
   "cell_type": "code",
   "execution_count": null,
   "metadata": {},
   "outputs": [],
   "source": [
    "import cv2 as cv\n",
    "from matplotlib import pyplot as plt\n",
    "from PIL import Image\n",
    "from IPython.display import display\n",
    "import numpy as np\n",
    "import os"
   ]
  },
  {
   "cell_type": "code",
   "execution_count": null,
   "metadata": {},
   "outputs": [],
   "source": []
  },
  {
   "cell_type": "code",
   "execution_count": null,
   "metadata": {},
   "outputs": [],
   "source": [
    "def show(imgs):\n",
    "    for im in imgs:\n",
    "        im = cv.cvtColor(im, cv.COLOR_BGR2RGB)\n",
    "        im = Image.fromarray(im)\n",
    "        im.thumbnail((400,400))\n",
    "        display(im)\n",
    "    \n",
    "\n",
    "imgs = [cv.imread(x) for x in [f\"photos/{f}\" for f in os.listdir(\"photos\")]]\n",
    "imgs = [(cv.resize(i,(0,0), i, 0.1, 0.1, cv.INTER_AREA),i) for i in imgs]\n",
    "\n",
    "def thresh(img):\n",
    "\n",
    "    gray = cv.cvtColor(img,cv.COLOR_BGR2GRAY)\n",
    "    \n",
    "    # https://docs.opencv.org/master/d7/d4d/tutorial_py_thresholding.html\n",
    "    x = cv.adaptiveThreshold(gray,255,cv.ADAPTIVE_THRESH_GAUSSIAN_C, cv.THRESH_BINARY, int(gray.shape[1]/20)*2+1, 2)\n",
    "    \n",
    "    kernel = np.ones((3,3),np.uint8)\n",
    "    x = cv.erode(x, kernel, iterations=1)\n",
    "    \n",
    "    return x\n",
    "\n",
    "imgs = [(thresh(i),j) for i,j in imgs]\n",
    "\n",
    "show([i for (i,j) in imgs])"
   ]
  },
  {
   "cell_type": "code",
   "execution_count": null,
   "metadata": {},
   "outputs": [],
   "source": [
    "cards = []\n",
    "\n",
    "def process(im,orig):\n",
    "    # Nice contour docs: https://opencv-python-tutroals.readthedocs.io/en/latest/py_tutorials/py_imgproc/py_contours/py_contour_features/py_contour_features.html\n",
    "    # Find all contours, sorted by size\n",
    "    contours, hierarchy = cv.findContours(im, cv.RETR_EXTERNAL,cv.CHAIN_APPROX_TC89_KCOS)\n",
    "    contours.sort(key=cv.contourArea,reverse=True)\n",
    "    \n",
    "    # Simplify contours\n",
    "    simple_contours = [cv.approxPolyDP(c, 0.05*cv.arcLength(c, True),True) for c in contours]\n",
    "    \n",
    "    # Keep contours whose simple shape roughly matches the original shape, is a rectangle, and whose area is at least 500.\n",
    "    \n",
    "    simple_contours = [s for s,c in zip(simple_contours, contours) if cv.matchShapes(c,s,cv.CONTOURS_MATCH_I1,0) < 0.2 and len(s) == 4 and cv.contourArea(s) > 500]\n",
    "            \n",
    "    mask = np.zeros(orig.shape[0:2], np.uint8)\n",
    "    cv.fillPoly(mask, simple_contours,1)\n",
    "    \n",
    "    x = orig.copy()#cv.bitwise_and(orig, orig, mask=mask)\n",
    "    \n",
    "    cv.drawContours(x, [s*10 for s in simple_contours], -1, (0,255,255), 20)\n",
    "    \n",
    "\n",
    "    \n",
    "    target = np.float32([[0,0], [0,200], [300,200], [300,0]])\n",
    "    for s in simple_contours:\n",
    "        s *= 10\n",
    "        # Roll contour until we're at the start of a short side.\n",
    "        s = np.roll(s, 2 * np.argmax([cv.arcLength(s[i:i+2], False) for i in range(3)]))\n",
    "        \n",
    "        s = np.float32(np.roll(s,2))\n",
    "        M = cv.getPerspectiveTransform(s, target)\n",
    "        persp = cv.warpPerspective(orig, M, (300,200))\n",
    "        cards.append(persp)\n",
    "    \n",
    "    return x\n",
    "\n",
    "\n",
    "show([process(i,j) for i,j in imgs])"
   ]
  },
  {
   "cell_type": "code",
   "execution_count": null,
   "metadata": {},
   "outputs": [],
   "source": [
    "for i,im in enumerate(cards):\n",
    "    im = cv.cvtColor(im, cv.COLOR_BGR2RGB)\n",
    "    im = Image.fromarray(im)\n",
    "    im.save(f\"cards/card.{i}.jpg\")\n"
   ]
  }
 ],
 "metadata": {
  "kernelspec": {
   "display_name": "Python 3",
   "language": "python",
   "name": "python3"
  },
  "language_info": {
   "codemirror_mode": {
    "name": "ipython",
    "version": 3
   },
   "file_extension": ".py",
   "mimetype": "text/x-python",
   "name": "python",
   "nbconvert_exporter": "python",
   "pygments_lexer": "ipython3",
   "version": "3.8.7"
  }
 },
 "nbformat": 4,
 "nbformat_minor": 4
}
